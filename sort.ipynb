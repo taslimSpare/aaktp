{
 "cells": [
  {
   "cell_type": "code",
   "execution_count": 3,
   "metadata": {},
   "outputs": [],
   "source": [
    "import os\n",
    "import pandas as pd\n",
    "main_folder = 'Sensor Data'\n",
    "dataframes = []\n",
    "expected_columns = None\n"
   ]
  },
  {
   "cell_type": "code",
   "execution_count": 5,
   "metadata": {},
   "outputs": [],
   "source": [
    "for subfolder in os.listdir(main_folder):\n",
    "    subfolder_path = os.path.join(main_folder, subfolder)\n",
    "    if os.path.isdir(subfolder_path):\n",
    "        for file in os.listdir(subfolder_path):\n",
    "            if file.endswith('.csv'):\n",
    "                file_path = os.path.join(subfolder_path, file)\n",
    "                df = pd.read_csv(file_path)\n",
    "                if expected_columns is None:\n",
    "                    expected_columns = df.columns\n",
    "                else:\n",
    "                    if not df.columns.equals(expected_columns):\n",
    "                        raise ValueError(f\"Columns do not match in file: {file_path}\")\n",
    "                dataframes.append(df)"
   ]
  },
  {
   "cell_type": "code",
   "execution_count": 7,
   "metadata": {},
   "outputs": [
    {
     "name": "stdout",
     "output_type": "stream",
     "text": [
      "52\n"
     ]
    }
   ],
   "source": [
    "print(len(dataframes))"
   ]
  },
  {
   "cell_type": "code",
   "execution_count": 9,
   "metadata": {},
   "outputs": [
    {
     "name": "stdout",
     "output_type": "stream",
     "text": [
      "Data successfully combined and sorted. Output saved to combined_sorted_data.csv\n"
     ]
    }
   ],
   "source": [
    "combined_df = pd.concat(dataframes)\n",
    "combined_df['Time'] = pd.to_datetime(combined_df['Time'], format='mixed')\n",
    "combined_df = combined_df.sort_values(by='Time')\n",
    "output_file = 'combined_sorted_data.csv'\n",
    "combined_df.to_csv(output_file, index=False)\n",
    "\n",
    "print(f\"Data successfully combined and sorted. Output saved to {output_file}\")"
   ]
  },
  {
   "cell_type": "code",
   "execution_count": 11,
   "metadata": {},
   "outputs": [
    {
     "data": {
      "text/html": [
       "<div>\n",
       "<style scoped>\n",
       "    .dataframe tbody tr th:only-of-type {\n",
       "        vertical-align: middle;\n",
       "    }\n",
       "\n",
       "    .dataframe tbody tr th {\n",
       "        vertical-align: top;\n",
       "    }\n",
       "\n",
       "    .dataframe thead th {\n",
       "        text-align: right;\n",
       "    }\n",
       "</style>\n",
       "<table border=\"1\" class=\"dataframe\">\n",
       "  <thead>\n",
       "    <tr style=\"text-align: right;\">\n",
       "      <th></th>\n",
       "      <th>Time</th>\n",
       "      <th>Tm</th>\n",
       "      <th>Rh</th>\n",
       "      <th>Na</th>\n",
       "      <th>Np</th>\n",
       "      <th>Li</th>\n",
       "      <th>H2s</th>\n",
       "      <th>Nh3</th>\n",
       "      <th>No2</th>\n",
       "      <th>Pm2</th>\n",
       "      <th>Pm10</th>\n",
       "      <th>Voc</th>\n",
       "    </tr>\n",
       "  </thead>\n",
       "  <tbody>\n",
       "    <tr>\n",
       "      <th>0</th>\n",
       "      <td>2024-04-01 14:29:35</td>\n",
       "      <td>34</td>\n",
       "      <td>67</td>\n",
       "      <td>47</td>\n",
       "      <td>48</td>\n",
       "      <td>701</td>\n",
       "      <td>0</td>\n",
       "      <td>97</td>\n",
       "      <td>8</td>\n",
       "      <td>6</td>\n",
       "      <td>6</td>\n",
       "      <td>101</td>\n",
       "    </tr>\n",
       "    <tr>\n",
       "      <th>1</th>\n",
       "      <td>2024-04-01 14:35:47</td>\n",
       "      <td>34</td>\n",
       "      <td>68</td>\n",
       "      <td>52</td>\n",
       "      <td>195</td>\n",
       "      <td>702</td>\n",
       "      <td>8</td>\n",
       "      <td>115</td>\n",
       "      <td>7</td>\n",
       "      <td>6</td>\n",
       "      <td>7</td>\n",
       "      <td>100</td>\n",
       "    </tr>\n",
       "    <tr>\n",
       "      <th>2</th>\n",
       "      <td>2024-04-01 14:40:47</td>\n",
       "      <td>34</td>\n",
       "      <td>67</td>\n",
       "      <td>47</td>\n",
       "      <td>48</td>\n",
       "      <td>703</td>\n",
       "      <td>4</td>\n",
       "      <td>102</td>\n",
       "      <td>7</td>\n",
       "      <td>9</td>\n",
       "      <td>9</td>\n",
       "      <td>98</td>\n",
       "    </tr>\n",
       "    <tr>\n",
       "      <th>3</th>\n",
       "      <td>2024-04-01 14:42:00</td>\n",
       "      <td>32</td>\n",
       "      <td>75</td>\n",
       "      <td>57</td>\n",
       "      <td>201</td>\n",
       "      <td>443</td>\n",
       "      <td>14</td>\n",
       "      <td>51</td>\n",
       "      <td>6</td>\n",
       "      <td>7</td>\n",
       "      <td>7</td>\n",
       "      <td>97</td>\n",
       "    </tr>\n",
       "    <tr>\n",
       "      <th>4</th>\n",
       "      <td>2024-04-01 14:45:47</td>\n",
       "      <td>34</td>\n",
       "      <td>69</td>\n",
       "      <td>47</td>\n",
       "      <td>48</td>\n",
       "      <td>704</td>\n",
       "      <td>0</td>\n",
       "      <td>125</td>\n",
       "      <td>6</td>\n",
       "      <td>6</td>\n",
       "      <td>7</td>\n",
       "      <td>107</td>\n",
       "    </tr>\n",
       "  </tbody>\n",
       "</table>\n",
       "</div>"
      ],
      "text/plain": [
       "                  Time  Tm  Rh  Na   Np   Li  H2s  Nh3  No2  Pm2  Pm10  Voc\n",
       "0  2024-04-01 14:29:35  34  67  47   48  701    0   97    8    6     6  101\n",
       "1  2024-04-01 14:35:47  34  68  52  195  702    8  115    7    6     7  100\n",
       "2  2024-04-01 14:40:47  34  67  47   48  703    4  102    7    9     9   98\n",
       "3  2024-04-01 14:42:00  32  75  57  201  443   14   51    6    7     7   97\n",
       "4  2024-04-01 14:45:47  34  69  47   48  704    0  125    6    6     7  107"
      ]
     },
     "execution_count": 11,
     "metadata": {},
     "output_type": "execute_result"
    }
   ],
   "source": [
    "data=pd.read_csv('combined_sorted_data.csv')\n",
    "data.head()"
   ]
  },
  {
   "cell_type": "code",
   "execution_count": 14,
   "metadata": {},
   "outputs": [
    {
     "name": "stdout",
     "output_type": "stream",
     "text": [
      "The maximum value in the 'Time' column is: 2024-05-14 02:48:32\n",
      "The maximum value in the 'Tm' column is: 38\n",
      "The maximum value in the 'Rh' column is: 93\n",
      "The maximum value in the 'Na' column is: 86\n",
      "The maximum value in the 'Np' column is: 393\n",
      "The maximum value in the 'Li' column is: 708\n",
      "The maximum value in the 'H2s' column is: 17\n",
      "The maximum value in the 'Nh3' column is: 105\n",
      "The maximum value in the 'No2' column is: 2\n",
      "The maximum value in the 'Pm2' column is: 980\n",
      "The maximum value in the 'Pm10' column is: 980\n",
      "The maximum value in the 'Voc' column is: 433\n"
     ]
    }
   ],
   "source": [
    "for column in df.columns:\n",
    "    max_value = df[column].max()\n",
    "    print(f\"The maximum value in the '{column}' column is: {max_value}\")"
   ]
  },
  {
   "cell_type": "code",
   "execution_count": null,
   "metadata": {},
   "outputs": [],
   "source": []
  }
 ],
 "metadata": {
  "kernelspec": {
   "display_name": ".venv",
   "language": "python",
   "name": "python3"
  },
  "language_info": {
   "codemirror_mode": {
    "name": "ipython",
    "version": 3
   },
   "file_extension": ".py",
   "mimetype": "text/x-python",
   "name": "python",
   "nbconvert_exporter": "python",
   "pygments_lexer": "ipython3",
   "version": "3.12.4"
  }
 },
 "nbformat": 4,
 "nbformat_minor": 2
}
